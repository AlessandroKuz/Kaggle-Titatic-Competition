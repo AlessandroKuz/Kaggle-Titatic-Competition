{
 "cells": [
  {
   "attachments": {},
   "cell_type": "markdown",
   "metadata": {},
   "source": [
    "# Titanic Dataset EDA"
   ]
  },
  {
   "attachments": {},
   "cell_type": "markdown",
   "metadata": {},
   "source": [
    "## 1. Imports"
   ]
  },
  {
   "cell_type": "code",
   "execution_count": null,
   "metadata": {},
   "outputs": [],
   "source": [
    "from ydata_profiling import ProfileReport\n",
    "import category_encoders as ce\n",
    "import matplotlib.pyplot as plt\n",
    "import plotly.express as px\n",
    "import seaborn as sns\n",
    "import pandas as pd\n",
    "import numpy as np\n",
    "import sklearn\n",
    "import tqdm"
   ]
  },
  {
   "attachments": {},
   "cell_type": "markdown",
   "metadata": {},
   "source": [
    "## 2. DataFrame initialization "
   ]
  },
  {
   "cell_type": "code",
   "execution_count": null,
   "metadata": {},
   "outputs": [],
   "source": [
    "df = pd.read_csv(r'.\\data\\train.csv')"
   ]
  },
  {
   "cell_type": "code",
   "execution_count": null,
   "metadata": {},
   "outputs": [],
   "source": [
    "# Index reset in order for it start from 0 (so subtracting 1 from PassengerId)\n",
    "df[\"PassengerId\"] = df[\"PassengerId\"] - 1\n",
    "\n",
    "# Setting PassengerId as index\n",
    "df = df.set_index(\"PassengerId\")"
   ]
  },
  {
   "cell_type": "code",
   "execution_count": null,
   "metadata": {},
   "outputs": [],
   "source": [
    "df.head()"
   ]
  },
  {
   "attachments": {},
   "cell_type": "markdown",
   "metadata": {},
   "source": [
    "## 3. EDA"
   ]
  },
  {
   "cell_type": "code",
   "execution_count": null,
   "metadata": {},
   "outputs": [],
   "source": [
    "df.info()"
   ]
  },
  {
   "cell_type": "code",
   "execution_count": null,
   "metadata": {},
   "outputs": [],
   "source": [
    "for el in df.columns:\n",
    "    print(el, df[el].nunique())"
   ]
  },
  {
   "attachments": {},
   "cell_type": "markdown",
   "metadata": {},
   "source": [
    "### 3.1 Data Imputation"
   ]
  },
  {
   "attachments": {},
   "cell_type": "markdown",
   "metadata": {},
   "source": [
    "#### 3.1.1 Age"
   ]
  },
  {
   "cell_type": "code",
   "execution_count": null,
   "metadata": {},
   "outputs": [],
   "source": [
    "# Save original name column to use it later\n",
    "original_name_column = df[\"Name\"].copy()"
   ]
  },
  {
   "cell_type": "code",
   "execution_count": null,
   "metadata": {},
   "outputs": [],
   "source": [
    "# Getting the title from the name\n",
    "df[\"Name\"] = df[\"Name\"].str.split(\", \", expand=True)[1].str.split(\".\", expand=True)[0]\n",
    "print(df[\"Name\"].value_counts())"
   ]
  },
  {
   "cell_type": "code",
   "execution_count": null,
   "metadata": {},
   "outputs": [],
   "source": [
    "# Store the title in a list\n",
    "type_of_passenger = (df[\"Name\"].value_counts()).index.tolist()"
   ]
  },
  {
   "cell_type": "code",
   "execution_count": null,
   "metadata": {},
   "outputs": [],
   "source": [
    "# Imputation of the missing values per title\n",
    "for pass_type in type_of_passenger:\n",
    "    passenger_category = df['Name'] == pass_type\n",
    "    passenger_type_df = df[passenger_category]\n",
    "    where_na = passenger_type_df['Age'].isna()\n",
    "    median_fill = df.loc[passenger_category, 'Age'].median()\n",
    "    passenger_type_df.loc[where_na, 'Age'] = median_fill \n",
    "    df[passenger_category] = passenger_type_df\n"
   ]
  },
  {
   "cell_type": "code",
   "execution_count": null,
   "metadata": {},
   "outputs": [],
   "source": [
    "df.info()"
   ]
  },
  {
   "cell_type": "code",
   "execution_count": null,
   "metadata": {},
   "outputs": [],
   "source": [
    "# Setting back the original name column\n",
    "df[\"Name\"] = original_name_column\n",
    "print(df[\"Name\"])"
   ]
  },
  {
   "attachments": {},
   "cell_type": "markdown",
   "metadata": {},
   "source": [
    "#### 3.1.2 Cabin"
   ]
  },
  {
   "cell_type": "code",
   "execution_count": null,
   "metadata": {},
   "outputs": [],
   "source": [
    "# Despite the fact that the cabin column has a lot of missing values, we can still extract some information from it\n",
    "# We can see that the first letter of the cabin is the deck where the passenger was located\n",
    "# We can extract this information and use it as a feature\n",
    "df[\"Cabin\"] = df[\"Cabin\"].str[0]\n",
    "print(df[\"Cabin\"].value_counts())"
   ]
  },
  {
   "cell_type": "code",
   "execution_count": null,
   "metadata": {},
   "outputs": [],
   "source": [
    "# But we still have a lot of missing values\n",
    "print(\"\\nMissing values in Cabin column: \", df[\"Cabin\"].isna().sum())"
   ]
  },
  {
   "cell_type": "code",
   "execution_count": null,
   "metadata": {},
   "outputs": [],
   "source": [
    "# We can see that the most of the missing values are from the 3rd class\n",
    "# We can impute the missing values with the most frequent value of the 3rd class\n",
    "\n",
    "# Printing how many of the na values of the cabin column are of which class\n",
    "# print(df[df[\"Cabin\"].isna()][\"Pclass\"].value_counts())\n",
    "\n",
    "# We can see that the most of the missing values are from the 3rd class\n",
    "# We can impute those values with the most frequent values of the 3rd class dividing them across the decks\n",
    "\n",
    "# For now we will just drop the column\n",
    "df.drop(\"Cabin\", axis=1, inplace=True)\n"
   ]
  },
  {
   "attachments": {},
   "cell_type": "markdown",
   "metadata": {},
   "source": [
    "#### 3.1.3 Embarked"
   ]
  },
  {
   "cell_type": "code",
   "execution_count": null,
   "metadata": {},
   "outputs": [],
   "source": [
    "# Seeing the most common values for the Embarked column\n",
    "print(df[\"Embarked\"].value_counts())\n",
    "print(\"-\"*80, \"\\n\", \"Unknowk embark port:\", \"\\n\")\n",
    "print(df[df[\"Embarked\"].isna()])"
   ]
  },
  {
   "cell_type": "code",
   "execution_count": null,
   "metadata": {},
   "outputs": [],
   "source": [
    "# Setting the missing values to the most common value\n",
    "df[\"Embarked\"] = df[\"Embarked\"].fillna(\"S\")\n",
    "print(f'Na values: {len(df[df[\"Embarked\"].isna()])}')"
   ]
  },
  {
   "attachments": {},
   "cell_type": "markdown",
   "metadata": {},
   "source": [
    "#### 3.1.3 Name"
   ]
  },
  {
   "cell_type": "code",
   "execution_count": null,
   "metadata": {},
   "outputs": [],
   "source": [
    "# Since name column is not useful for the model, we can drop it\n",
    "df.drop(\"Name\", axis=1, inplace=True)"
   ]
  },
  {
   "attachments": {},
   "cell_type": "markdown",
   "metadata": {},
   "source": [
    "#### 3.1.4 Tickets"
   ]
  },
  {
   "cell_type": "code",
   "execution_count": null,
   "metadata": {},
   "outputs": [],
   "source": [
    "# We can see that the ticket column has a lot of unique values, so it is not useful for the model\n",
    "# We can drop it\n",
    "df.drop(\"Ticket\", axis=1, inplace=True)"
   ]
  },
  {
   "attachments": {},
   "cell_type": "markdown",
   "metadata": {},
   "source": [
    "#### 3.1.5 Sex"
   ]
  },
  {
   "cell_type": "code",
   "execution_count": null,
   "metadata": {},
   "outputs": [],
   "source": [
    "# Substituting \"male\" and \"female\" with \"M\" and \"F\" respectively\n",
    "replace_dictionary = {\"male\": \"M\", \"female\": \"F\"}\n",
    "df[\"Sex\"] = df[\"Sex\"].replace(replace_dictionary)"
   ]
  },
  {
   "attachments": {},
   "cell_type": "markdown",
   "metadata": {},
   "source": [
    "#### 3.1.x Summary"
   ]
  },
  {
   "cell_type": "code",
   "execution_count": null,
   "metadata": {},
   "outputs": [],
   "source": [
    "df.info()"
   ]
  },
  {
   "cell_type": "code",
   "execution_count": null,
   "metadata": {},
   "outputs": [],
   "source": [
    "df.head()"
   ]
  },
  {
   "attachments": {},
   "cell_type": "markdown",
   "metadata": {},
   "source": [
    "## 4. Setting the proper dtypes"
   ]
  },
  {
   "cell_type": "code",
   "execution_count": null,
   "metadata": {},
   "outputs": [],
   "source": [
    "# Setting the categorical columns as category type\n",
    "df[\"Survived\"] = df[\"Survived\"].astype(\"category\")\n",
    "df[\"Pclass\"] = df[\"Pclass\"].astype(\"category\")\n",
    "df[\"Sex\"] = df[\"Sex\"].astype(\"category\")\n",
    "df[\"Embarked\"] = df[\"Embarked\"].astype(\"category\")\n",
    "\n",
    "# Setting the numerical columns as float or int type\n",
    "df[\"Age\"] = df[\"Age\"].astype(\"int8\")\n",
    "df[\"SibSp\"] = df[\"SibSp\"].astype(\"int8\")\n",
    "df[\"Parch\"] = df[\"Parch\"].astype(\"int8\")\n",
    "df[\"Fare\"] = df[\"Fare\"].astype(\"float16\")\n"
   ]
  },
  {
   "cell_type": "code",
   "execution_count": null,
   "metadata": {},
   "outputs": [],
   "source": [
    "df.info()"
   ]
  },
  {
   "attachments": {},
   "cell_type": "markdown",
   "metadata": {},
   "source": [
    "## 5. Creating Report"
   ]
  },
  {
   "cell_type": "code",
   "execution_count": null,
   "metadata": {},
   "outputs": [],
   "source": [
    "profile = ProfileReport(df, title ='Titanic Report')"
   ]
  },
  {
   "cell_type": "code",
   "execution_count": null,
   "metadata": {},
   "outputs": [],
   "source": [
    "profile.to_file(output_file='titanic_report.html')"
   ]
  }
 ],
 "metadata": {
  "kernelspec": {
   "display_name": "MLtest",
   "language": "python",
   "name": "python3"
  },
  "language_info": {
   "codemirror_mode": {
    "name": "ipython",
    "version": 3
   },
   "file_extension": ".py",
   "mimetype": "text/x-python",
   "name": "python",
   "nbconvert_exporter": "python",
   "pygments_lexer": "ipython3",
   "version": "3.11.3"
  },
  "orig_nbformat": 4
 },
 "nbformat": 4,
 "nbformat_minor": 2
}
